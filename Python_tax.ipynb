{
  "nbformat": 4,
  "nbformat_minor": 0,
  "metadata": {
    "colab": {
      "name": "Python tax.ipynb",
      "provenance": [],
      "collapsed_sections": []
    },
    "kernelspec": {
      "name": "python3",
      "display_name": "Python 3"
    },
    "language_info": {
      "name": "python"
    }
  },
  "cells": [
    {
      "cell_type": "code",
      "execution_count": 1,
      "metadata": {
        "id": "i53Jdh0Vx42W"
      },
      "outputs": [],
      "source": [
        "x=20"
      ]
    },
    {
      "cell_type": "code",
      "source": [
        "if x > 10 :\n",
        "  print(\" X > 10\")"
      ],
      "metadata": {
        "colab": {
          "base_uri": "https://localhost:8080/"
        },
        "id": "tg5dE0580UYW",
        "outputId": "7e8267bf-e817-4fd6-eb36-f21a98c5d877"
      },
      "execution_count": 2,
      "outputs": [
        {
          "output_type": "stream",
          "name": "stdout",
          "text": [
            " X > 10\n"
          ]
        }
      ]
    },
    {
      "cell_type": "markdown",
      "source": [
        ""
      ],
      "metadata": {
        "id": "pKCS10315c_d"
      }
    },
    {
      "cell_type": "code",
      "source": [
        "x=20\n",
        "if x>10:\n",
        "  print(\"x> 10\")\n",
        "if x< 10: \n",
        "   print(\"X<10\")\n",
        "if x==10:\n",
        "  print(\"x=10\")"
      ],
      "metadata": {
        "colab": {
          "base_uri": "https://localhost:8080/"
        },
        "id": "Z-WySqD808O-",
        "outputId": "ccee27c5-7f60-44e4-c515-e9c0ee379361"
      },
      "execution_count": 3,
      "outputs": [
        {
          "output_type": "stream",
          "name": "stdout",
          "text": [
            "x> 10\n"
          ]
        }
      ]
    },
    {
      "cell_type": "code",
      "source": [
        "x\n",
        "input( \"enter the first number\")"
      ],
      "metadata": {
        "colab": {
          "base_uri": "https://localhost:8080/",
          "height": 53
        },
        "id": "im__aQKp4Ww4",
        "outputId": "891d2913-8e87-4fcf-a837-30e0cfad72e0"
      },
      "execution_count": 4,
      "outputs": [
        {
          "name": "stdout",
          "output_type": "stream",
          "text": [
            "enter the first number50\n"
          ]
        },
        {
          "output_type": "execute_result",
          "data": {
            "text/plain": [
              "'50'"
            ],
            "application/vnd.google.colaboratory.intrinsic+json": {
              "type": "string"
            }
          },
          "metadata": {},
          "execution_count": 4
        }
      ]
    },
    {
      "cell_type": "code",
      "source": [
        "x= int( input (\"enter your mark\"))\n",
        "if x>10:\n",
        "  print(\"pass\")\n",
        "if x< 10: \n",
        "  print(\"fail\")\n",
        "if x==10:\n",
        "   print(\"just pass\")"
      ],
      "metadata": {
        "colab": {
          "base_uri": "https://localhost:8080/"
        },
        "id": "sLQlQOB49rcN",
        "outputId": "5adcbff5-182e-4a42-9fc7-fb954c695ad7"
      },
      "execution_count": 5,
      "outputs": [
        {
          "output_type": "stream",
          "name": "stdout",
          "text": [
            "enter your mark50\n",
            "pass\n"
          ]
        }
      ]
    },
    {
      "cell_type": "code",
      "source": [
        "x=int(input(\"enter your salary \"))\n",
        "if x<250000:\n",
        "  print(\"you are not taxable\")\n",
        "if x>250000:\n",
        "  print(x*10/100)\n",
        "  print(\"you are taxable\")"
      ],
      "metadata": {
        "id": "b_s8NgxJ9__-",
        "colab": {
          "base_uri": "https://localhost:8080/"
        },
        "outputId": "db7e2fed-b36e-4363-ef2c-be04af50ba2a"
      },
      "execution_count": 6,
      "outputs": [
        {
          "output_type": "stream",
          "name": "stdout",
          "text": [
            "enter your salary 410056\n",
            "41005.6\n",
            "you are taxable\n"
          ]
        }
      ]
    },
    {
      "cell_type": "code",
      "source": [
        ""
      ],
      "metadata": {
        "id": "UGTP3deCILkS"
      },
      "execution_count": 6,
      "outputs": []
    }
  ]
}